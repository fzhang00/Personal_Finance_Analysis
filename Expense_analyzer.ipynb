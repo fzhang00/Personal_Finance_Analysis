{
 "cells": [
  {
   "cell_type": "code",
   "execution_count": null,
   "metadata": {},
   "outputs": [],
   "source": [
    "import pandas as pd\n",
    "import os"
   ]
  },
  {
   "cell_type": "code",
   "execution_count": null,
   "metadata": {},
   "outputs": [],
   "source": [
    "def read_bank_csv(file_dir, dat_lst, *, usecols=None, skiprows=None, invertamount=False):\n",
    "    \"\"\"Load all csv file from a given folder, and return a list of dataframe. \n",
    "    Parameters:\n",
    "        usecols : list of integer specifying which columns to read.\n",
    "        skiprows: list of integer specifying rows to skip when loading csv.\n",
    "        invertamount : boolean. If True, invert the \"Amount\" column. \"\"\"\n",
    "    flist = os.listdir(file_dir)\n",
    "    fnames = [os.path.join(file_dir, f) for f in flist if f.endswith('.csv')]\n",
    "    for fname in fnames:\n",
    "        df = pd.read_csv(fname, names=['Date', 'Payee', 'Amount'], usecols=usecols, skiprows=skiprows)\n",
    "        if invertamount:\n",
    "            df['Amount'] = -1*df['Amount']\n",
    "        dat_lst.append(df)\n",
    "    return dat_lst\n"
   ]
  },
  {
   "cell_type": "markdown",
   "metadata": {},
   "source": [
    "After downloading all bank statement, put all the ones you want to analyze into separate folders by financial institude. \n",
    "\n",
    "Note: some institude label spending negative, some don't. They also have different number of columns in the statement. Therefore statement from different institution can be put separately so they can be read separately by the read_bank_csv()"
   ]
  },
  {
   "cell_type": "code",
   "execution_count": null,
   "metadata": {},
   "outputs": [],
   "source": [
    "bank1_dir = \"C:\\\\path\\\\to\\\\your\\\\bank\\\\statement\\\\folder\"\n",
    "bank2_dir = \"\"\n",
    "bank3_dir = \"\"\n"
   ]
  },
  {
   "cell_type": "code",
   "execution_count": null,
   "metadata": {},
   "outputs": [],
   "source": [
    "dat_lst = []\n",
    "dat_lst = read_bank_csv(bank1_dir, dat_lst, usecols=[0,1,3], skiprows=[0], invertamount=True)\n",
    "dat_lst = read_bank_csv(bank2_dir, dat_lst, usecols=[0,1,2], skiprows=None, invertamount=False)\n",
    "dat_lst = read_bank_csv(bank3_dir, dat_lst, usecols=[0,1,2], skiprows=[0], invertamount=False)\n",
    "dat = pd.concat(dat_lst, ignore_index=True)\n",
    "dat['Type'] = 'n/a'\n",
    "dat.head()"
   ]
  },
  {
   "cell_type": "code",
   "execution_count": null,
   "metadata": {},
   "outputs": [],
   "source": [
    "dat.tail()"
   ]
  },
  {
   "cell_type": "markdown",
   "metadata": {},
   "source": [
    "Adjust payee categories. The shop name needs to match part of the full text in the Payee. "
   ]
  },
  {
   "cell_type": "code",
   "execution_count": null,
   "metadata": {},
   "outputs": [],
   "source": [
    "payee_types = {'Restaurant':['McDonald', 'Wendy', 'Happy Lamb', 'Shanghai', \n",
    "                             'KFC', 'Tim Hortons', 'Subway', 'coco', 'RAMEN',\n",
    "                             'SHAWARMA', 'Tea', 'Starbucks', 'Wok hey', \n",
    "                             'INDIAN DESI','pizza', 'sushi','favoris', 'beavertails',\n",
    "                             'mandarin','BOOSTER JUICE','NAYAX'],\n",
    "               'Grocery': ['Costco', 'Farm Boy','Wal-Mart','Food Basic', \n",
    "                           'T&T','FRESHCO','green fresh', 'YIG', 'KOWLOON'],\n",
    "               'Electronics': ['Best Buy', 'BBYMarket', 'OPEN BOX'],\n",
    "               'Home': ['Ikea', 'CDN TIRE', 'HP', 'dollarama', 'SHoPPER +', \n",
    "                        'Temu.com', 'value village', 'staples'],\n",
    "               'Service': ['Apple.com', 'domain.com', 'google', 'ufile', 'Consumerlab.com'],\n",
    "               'Medical':['GORDON','Jennifer tan', 'GREAT MOUNTAIN GINSENG'],\n",
    "               'Entertainment':['ticketmaster','funhaven','CINEPLEX',\n",
    "                                'Canadian Museum', 'toy', 'zoo', '4029357733',\n",
    "                                'bowling', 'aquarium', 'musee', 'JEEBA', 'mid earth',\n",
    "                                ],\n",
    "               'Travel':['VIA RAIL', 'MTO','BUDGET'],\n",
    "               'Education':['Virtual ventures', 'lingoace', 'Music Fest', 'Tennis School', \n",
    "                            'Catholic school','Carleton','RCM', 'Kiwanis', 'bccma', 'zi chan',\n",
    "                            'zichan', 'Fan Liu', 'mico basketball','RuiXue'],\n",
    "               'Personal': ['Nu skin', 'thebay.com', 'hudson', 'EYEBUYDIRECT',\n",
    "                            'Deciem','MARSHALLS', 'shoppers',\"THE CHILDREN'S PLACE\",\n",
    "                            'PARTY CITY','linni Zhao'],\n",
    "               'Donation': ['United way'],\n",
    "               'Transportation': ['ESSO', 'Chrysler','petro', 'NAC', 'ALGONQUIN COLLEGE PARK', 'costco gas'],\n",
    "               'Interest and Fee': ['Fee',],\n",
    "               'Pet':['GREENBANK ANIMAL'],\n",
    "               'Utilities': ['hydro', 'water', 'enbridge', 'bell', 'ITALK'],\n",
    "               'Govn doc': ['NOTARY', ],\n",
    "               'Business trip': ['AIR-SERV', 'PENTICTON', 'LA PREP','YOW' ,'TAXI', 'LAKESIDE VILLA']}\n"
   ]
  },
  {
   "cell_type": "markdown",
   "metadata": {},
   "source": [
    "Go through the dataframe and assign type to all the transaction"
   ]
  },
  {
   "cell_type": "code",
   "execution_count": null,
   "metadata": {},
   "outputs": [],
   "source": [
    "for i, row in dat.iterrows():\n",
    "    for type, shops in payee_types.items():\n",
    "        for s in shops:\n",
    "            if s.upper() in row['Payee'].upper():\n",
    "                dat.loc[i,'Type'] = type"
   ]
  },
  {
   "cell_type": "markdown",
   "metadata": {},
   "source": [
    "Take a look what other payees that are not assigned. \n",
    "If you loaded debit card statement, you could have lots of credit card payment, and pay check deposit without type. This is intended, as I don't include those in my analysis. "
   ]
  },
  {
   "cell_type": "code",
   "execution_count": null,
   "metadata": {},
   "outputs": [],
   "source": [
    "dat[dat['Type']=='n/a']['Payee'].unique()"
   ]
  },
  {
   "cell_type": "markdown",
   "metadata": {},
   "source": [
    "Summarize expenses, excluding types that are 'n/a'"
   ]
  },
  {
   "cell_type": "code",
   "execution_count": null,
   "metadata": {},
   "outputs": [],
   "source": [
    "dat_typed = dat.loc[dat['Type']!='n/a', :]\n",
    "(dat_typed.groupby('Type').sum()).sort_values('Amount', ascending=False)"
   ]
  },
  {
   "cell_type": "markdown",
   "metadata": {},
   "source": [
    "If you want to see data from specific retailer, use this cell: "
   ]
  },
  {
   "cell_type": "code",
   "execution_count": null,
   "metadata": {},
   "outputs": [],
   "source": [
    "substring='Costco'\n",
    "filter = dat['Payee'].str.contains(substring, case=False)\n",
    "dat_filt = dat[filter]\n",
    "dat_filt"
   ]
  }
 ],
 "metadata": {
  "kernelspec": {
   "display_name": "invest",
   "language": "python",
   "name": "python3"
  },
  "language_info": {
   "codemirror_mode": {
    "name": "ipython",
    "version": 3
   },
   "file_extension": ".py",
   "mimetype": "text/x-python",
   "name": "python",
   "nbconvert_exporter": "python",
   "pygments_lexer": "ipython3",
   "version": "3.11.4"
  }
 },
 "nbformat": 4,
 "nbformat_minor": 2
}
